{
 "cells": [
  {
   "cell_type": "code",
   "execution_count": 21,
   "id": "3559516f-51e5-4df7-8c05-36b12e6fd7f7",
   "metadata": {},
   "outputs": [],
   "source": [
    "import pandas as pd\n",
    "import re"
   ]
  },
  {
   "cell_type": "code",
   "execution_count": 2,
   "id": "0577028f-6554-4565-9fca-d4756c3d98c8",
   "metadata": {},
   "outputs": [],
   "source": [
    "df = pd.read_csv('../data/filenames_and_sizes.csv')"
   ]
  },
  {
   "cell_type": "code",
   "execution_count": 15,
   "id": "bb86184d-30b7-40de-ab89-fc9918bda541",
   "metadata": {},
   "outputs": [],
   "source": [
    "fl = []\n",
    "for f in df.files.values:\n",
    "    for i in ['Plate1007','Plate1018','Plate1102','Plate1103','Plate1104']:\n",
    "        if i in f:\n",
    "            fl.append(f)"
   ]
  },
  {
   "cell_type": "code",
   "execution_count": 54,
   "id": "f0d10a3f-b315-47be-8af4-13648dc8d931",
   "metadata": {},
   "outputs": [],
   "source": [
    "def extract_plate(identifier):\n",
    "    return int(re.search('Plate(\\d+)', identifier).group(1))"
   ]
  },
  {
   "cell_type": "code",
   "execution_count": 48,
   "id": "e929b506-db24-4e46-91bc-86c1fd929d29",
   "metadata": {},
   "outputs": [],
   "source": [
    "ext_l = df.loc[df['files'].isin(fl)].copy()"
   ]
  },
  {
   "cell_type": "code",
   "execution_count": 49,
   "id": "e336e177-c39a-46e0-a591-168224a77e5c",
   "metadata": {},
   "outputs": [],
   "source": [
    "ext_l['plate'] = ext_l['files'].apply(extract_plate)"
   ]
  },
  {
   "cell_type": "code",
   "execution_count": 50,
   "id": "0f46a471-bed6-4488-afe8-93fa359f60e4",
   "metadata": {},
   "outputs": [],
   "source": [
    "avgs = ext_l.groupby('plate')['file_size'].mean().reset_index()"
   ]
  },
  {
   "cell_type": "code",
   "execution_count": 52,
   "id": "c498727a-24ed-4747-9298-49bf0fedb55c",
   "metadata": {},
   "outputs": [],
   "source": [
    "avgs['file_size'] = avgs['file_size']/1000000"
   ]
  },
  {
   "cell_type": "code",
   "execution_count": 55,
   "id": "b4690d54-baf3-45d0-8111-bfc8c1e1fa50",
   "metadata": {},
   "outputs": [],
   "source": [
    "df['plate'] = df['files'].apply(extract_plate)"
   ]
  },
  {
   "cell_type": "code",
   "execution_count": 87,
   "id": "8bd5320b-8d04-47c9-a0d0-b8847a1abbdd",
   "metadata": {},
   "outputs": [],
   "source": [
    "df_avgs = df.groupby('plate')['file_size'].mean().reset_index()"
   ]
  },
  {
   "cell_type": "code",
   "execution_count": 88,
   "id": "cf60f803-3377-4a5b-b553-2a5f759f350f",
   "metadata": {},
   "outputs": [],
   "source": [
    "df_avgs['file_size'] = df_avgs['file_size']/1000000"
   ]
  },
  {
   "cell_type": "code",
   "execution_count": 91,
   "id": "7ef84642-e31a-422c-a807-a1bbd4412dff",
   "metadata": {},
   "outputs": [],
   "source": [
    "def add_pass_fail(df):\n",
    "    \n",
    "    for i, row in df.iterrows():\n",
    "        if row['plate'] in [1007, 1018, 1102, 1103, 1104]:\n",
    "            df.loc[i,'passfail'] = 'fail'\n",
    "        else:\n",
    "            df.loc[i, 'passfail'] = 'pass'\n",
    "    return(df)\n",
    "        \n"
   ]
  },
  {
   "cell_type": "code",
   "execution_count": 93,
   "id": "9eefb6fa-92e8-4803-9492-33a72d43e3c2",
   "metadata": {},
   "outputs": [],
   "source": [
    "pf = add_pass_fail(df_avgs)"
   ]
  },
  {
   "cell_type": "code",
   "execution_count": 60,
   "id": "1cae22a7-08dc-4b12-8cae-60b2cc793b13",
   "metadata": {},
   "outputs": [],
   "source": [
    "import rpy2\n",
    "%load_ext rpy2.ipython"
   ]
  },
  {
   "cell_type": "code",
   "execution_count": 94,
   "id": "5791ac9d-7eae-4428-a4e8-76701e05a864",
   "metadata": {},
   "outputs": [],
   "source": [
    "%Rpush pf"
   ]
  },
  {
   "cell_type": "code",
   "execution_count": 97,
   "id": "681cca82-e86f-4967-b501-07b7555dcc9f",
   "metadata": {},
   "outputs": [
    {
     "data": {
      "text/html": [
       "<div>\n",
       "<style scoped>\n",
       "    .dataframe tbody tr th:only-of-type {\n",
       "        vertical-align: middle;\n",
       "    }\n",
       "\n",
       "    .dataframe tbody tr th {\n",
       "        vertical-align: top;\n",
       "    }\n",
       "\n",
       "    .dataframe thead th {\n",
       "        text-align: right;\n",
       "    }\n",
       "</style>\n",
       "<table border=\"1\" class=\"dataframe\">\n",
       "  <thead>\n",
       "    <tr style=\"text-align: right;\">\n",
       "      <th></th>\n",
       "      <th>plate</th>\n",
       "      <th>file_size</th>\n",
       "      <th>passfail</th>\n",
       "    </tr>\n",
       "  </thead>\n",
       "  <tbody>\n",
       "    <tr>\n",
       "      <th>0</th>\n",
       "      <td>1007</td>\n",
       "      <td>6.716643</td>\n",
       "      <td>fail</td>\n",
       "    </tr>\n",
       "    <tr>\n",
       "      <th>1</th>\n",
       "      <td>1008</td>\n",
       "      <td>4.788823</td>\n",
       "      <td>pass</td>\n",
       "    </tr>\n",
       "    <tr>\n",
       "      <th>2</th>\n",
       "      <td>1009</td>\n",
       "      <td>4.473932</td>\n",
       "      <td>pass</td>\n",
       "    </tr>\n",
       "    <tr>\n",
       "      <th>3</th>\n",
       "      <td>1010</td>\n",
       "      <td>4.906305</td>\n",
       "      <td>pass</td>\n",
       "    </tr>\n",
       "    <tr>\n",
       "      <th>4</th>\n",
       "      <td>1013</td>\n",
       "      <td>5.696852</td>\n",
       "      <td>pass</td>\n",
       "    </tr>\n",
       "    <tr>\n",
       "      <th>5</th>\n",
       "      <td>1014</td>\n",
       "      <td>5.789985</td>\n",
       "      <td>pass</td>\n",
       "    </tr>\n",
       "    <tr>\n",
       "      <th>6</th>\n",
       "      <td>1015</td>\n",
       "      <td>5.062630</td>\n",
       "      <td>pass</td>\n",
       "    </tr>\n",
       "    <tr>\n",
       "      <th>7</th>\n",
       "      <td>1016</td>\n",
       "      <td>5.264685</td>\n",
       "      <td>pass</td>\n",
       "    </tr>\n",
       "    <tr>\n",
       "      <th>8</th>\n",
       "      <td>1017</td>\n",
       "      <td>4.817990</td>\n",
       "      <td>pass</td>\n",
       "    </tr>\n",
       "    <tr>\n",
       "      <th>9</th>\n",
       "      <td>1018</td>\n",
       "      <td>2.270405</td>\n",
       "      <td>fail</td>\n",
       "    </tr>\n",
       "    <tr>\n",
       "      <th>10</th>\n",
       "      <td>1019</td>\n",
       "      <td>5.589490</td>\n",
       "      <td>pass</td>\n",
       "    </tr>\n",
       "    <tr>\n",
       "      <th>11</th>\n",
       "      <td>1020</td>\n",
       "      <td>5.887408</td>\n",
       "      <td>pass</td>\n",
       "    </tr>\n",
       "    <tr>\n",
       "      <th>12</th>\n",
       "      <td>1021</td>\n",
       "      <td>1.187218</td>\n",
       "      <td>pass</td>\n",
       "    </tr>\n",
       "    <tr>\n",
       "      <th>13</th>\n",
       "      <td>1022</td>\n",
       "      <td>5.498703</td>\n",
       "      <td>pass</td>\n",
       "    </tr>\n",
       "    <tr>\n",
       "      <th>14</th>\n",
       "      <td>1023</td>\n",
       "      <td>4.101867</td>\n",
       "      <td>pass</td>\n",
       "    </tr>\n",
       "    <tr>\n",
       "      <th>15</th>\n",
       "      <td>1024</td>\n",
       "      <td>5.950884</td>\n",
       "      <td>pass</td>\n",
       "    </tr>\n",
       "    <tr>\n",
       "      <th>16</th>\n",
       "      <td>1025</td>\n",
       "      <td>4.511636</td>\n",
       "      <td>pass</td>\n",
       "    </tr>\n",
       "    <tr>\n",
       "      <th>17</th>\n",
       "      <td>1026</td>\n",
       "      <td>5.798186</td>\n",
       "      <td>pass</td>\n",
       "    </tr>\n",
       "    <tr>\n",
       "      <th>18</th>\n",
       "      <td>1102</td>\n",
       "      <td>13.290960</td>\n",
       "      <td>fail</td>\n",
       "    </tr>\n",
       "    <tr>\n",
       "      <th>19</th>\n",
       "      <td>1103</td>\n",
       "      <td>5.431391</td>\n",
       "      <td>fail</td>\n",
       "    </tr>\n",
       "    <tr>\n",
       "      <th>20</th>\n",
       "      <td>1104</td>\n",
       "      <td>3.576062</td>\n",
       "      <td>fail</td>\n",
       "    </tr>\n",
       "  </tbody>\n",
       "</table>\n",
       "</div>"
      ],
      "text/plain": [
       "    plate  file_size passfail\n",
       "0    1007   6.716643     fail\n",
       "1    1008   4.788823     pass\n",
       "2    1009   4.473932     pass\n",
       "3    1010   4.906305     pass\n",
       "4    1013   5.696852     pass\n",
       "5    1014   5.789985     pass\n",
       "6    1015   5.062630     pass\n",
       "7    1016   5.264685     pass\n",
       "8    1017   4.817990     pass\n",
       "9    1018   2.270405     fail\n",
       "10   1019   5.589490     pass\n",
       "11   1020   5.887408     pass\n",
       "12   1021   1.187218     pass\n",
       "13   1022   5.498703     pass\n",
       "14   1023   4.101867     pass\n",
       "15   1024   5.950884     pass\n",
       "16   1025   4.511636     pass\n",
       "17   1026   5.798186     pass\n",
       "18   1102  13.290960     fail\n",
       "19   1103   5.431391     fail\n",
       "20   1104   3.576062     fail"
      ]
     },
     "execution_count": 97,
     "metadata": {},
     "output_type": "execute_result"
    }
   ],
   "source": [
    "pf"
   ]
  },
  {
   "cell_type": "code",
   "execution_count": 96,
   "id": "84286906-44a4-49f6-896b-ed562740ebfb",
   "metadata": {},
   "outputs": [
    {
     "data": {
      "image/png": "[encoded data removed]"
     },
     "metadata": {},
     "output_type": "display_data"
    }
   ],
   "source": [
    "%%R \n",
    "library('ggplot2')\n",
    "p2 <- (\n",
    "    ggplot(pf, aes(plate, file_size, colour=(passfail))) + \n",
    "    geom_point(size=5) +\n",
    "    geom_hline(yintercept=6, linetype=\"dotted\", color=\"black\") +\n",
    "    geom_hline(yintercept=4, linetype=\"dotted\", color=\"black\") +\n",
    "    labs(title=\"Control AIM Mash Comparison by Plate and Run\") +\n",
    "    theme(plot.title = element_text(hjust = 0.5))\n",
    ")\n",
    "p2"
   ]
  }
 ],
 "metadata": {
  "kernelspec": {
   "display_name": "Python 3 (ipykernel)",
   "language": "python",
   "name": "python3"
  },
  "language_info": {
   "codemirror_mode": {
    "name": "ipython",
    "version": 3
   },
   "file_extension": ".py",
   "mimetype": "text/x-python",
   "name": "python",
   "nbconvert_exporter": "python",
   "pygments_lexer": "ipython3",
   "version": "3.9.7"
  }
 },
 "nbformat": 4,
 "nbformat_minor": 5
}
