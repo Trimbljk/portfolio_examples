{
 "cells": [
  {
   "cell_type": "code",
   "execution_count": 1,
   "id": "91e70a24-8cb1-4432-a627-35a74afc3893",
   "metadata": {},
   "outputs": [],
   "source": [
    "import pandas as pd\n",
    "from pyathena import connect\n",
    "from pyathena.pandas.cursor import PandasCursor\n",
    "import os\n",
    "import boto3\n",
    "import time\n",
    "import re\n",
    "import networkx as nx\n",
    "from networkx.drawing.nx_agraph import graphviz_layout\n",
    "import matplotlib.pyplot as plt\n",
    "from matplotlib.cm import get_cmap\n",
    "from matplotlib.colors import to_hex\n",
    "from matplotlib.lines import Line2D\n",
    "import rpy2\n",
    "%load_ext rpy2.ipython\n",
    "import seaborn as sns\n",
    "STAGING_BUCKET = os.environ['STAGING_BUCKET']\n",
    "ATHENA_CURSOR = connect(s3_staging_dir=STAGING_BUCKET,\n",
    "                 region_name=\"us-west-2\",\n",
    "                 cursor_class=PandasCursor).cursor()"
   ]
  },
  {
   "cell_type": "code",
   "execution_count": 2,
   "id": "5fbb1675-99ff-439f-a31f-bcd37da58964",
   "metadata": {},
   "outputs": [],
   "source": [
    "s3 = boto3.client('s3')"
   ]
  },
  {
   "cell_type": "code",
   "execution_count": 3,
   "id": "15b8fb2f-f682-4284-93b9-dfd490f8893f",
   "metadata": {},
   "outputs": [],
   "source": [
    "def get_file_sizes():\n",
    "    pf = 'NovaSeq/Microbioal-Isolation/220617_A00585_0485_AHLJFTDSX3_AgBiome_Run171/AgBiome_220617_Run171_Assembly'\n",
    "    buck = 'agbiome-mogene-data-transfer'\n",
    "    keys = []\n",
    "    sizes = []\n",
    "    response = s3.list_objects_v2(\n",
    "        Bucket=buck,\n",
    "        MaxKeys=1000,\n",
    "        Prefix=pf\n",
    "    )\n",
    "    cont_token = response['NextContinuationToken']\n",
    "    print(cont_token)\n",
    "    for k in response['Contents']:\n",
    "        if re.search(r\"AgBiome_AIM[0-9]{6}_[0-9]*_[A-H][0-9]{1,2}_[0-9]{6}_consensus\\.fasta\", k['Key']):\n",
    "            keys.append(k['Key'])\n",
    "            sizes.append(k['Size'])\n",
    "        else:\n",
    "            pass\n",
    "    \n",
    "    while \"NextContinuationToken\" in response:\n",
    "        response = s3.list_objects_v2(\n",
    "            Bucket=buck,\n",
    "            MaxKeys=1000,\n",
    "            Prefix=pf,\n",
    "            ContinuationToken=cont_token\n",
    "            )\n",
    "        for k in response['Contents']:\n",
    "            if re.search(r\"AgBiome_AIM[0-9]{6}_[0-9]*_[A-H][0-9]{1,2}_[0-9]{6}_consensus\\.fasta\", k['Key']):\n",
    "                keys.append(k['Key'])\n",
    "                sizes.append(k['Size'])\n",
    "            else:\n",
    "                pass\n",
    "        if 'NextContinuationToken' in response:\n",
    "            cont_token = response['NextContinuationToken']\n",
    "        else:\n",
    "            pass\n",
    "    print(\"Finished gathering keys...\")\n",
    "    return({'files': keys,'file_size': sizes})"
   ]
  },
  {
   "cell_type": "code",
   "execution_count": 4,
   "id": "32cf543f-b35c-4afa-b7d0-bf2a68927a44",
   "metadata": {},
   "outputs": [
    {
     "name": "stdout",
     "output_type": "stream",
     "text": [
      "1dCECeC9E56VCGfJreqH4nclP4QSq/+v+ApobGEOkJcAw6f5aa2n4frX68ptLTdm7TEyN9ti9A5CcHfMsTJ5K563RYZkUpxWlwVxH4gacRyv1ivz1W3I7+47yDrqXkUYlFzeIse0goDY5gE1y2pE+0tAZeUKiHhzQQHeeKihCoCDHflGwIPlcxVcUEoVUL/jv3CJof/BL3vieVv8ddXMCAhaOE5rflmtx+/qt/hIbpn5YvbG1ak2BoMejC2w/l2Raz0uy08AAfMNC5FYnc2KUYAyUCSYjTY5HaXMTDMCuF1K7E88b0M0377aEE7BU75Q7cwAcAm6vfz4=\n",
      "Finished gathering keys...\n"
     ]
    }
   ],
   "source": [
    "get_sizes = get_file_sizes()"
   ]
  },
  {
   "cell_type": "code",
   "execution_count": 5,
   "id": "dcc69525-7386-4a53-a1f2-3bbb26fcc0af",
   "metadata": {},
   "outputs": [],
   "source": [
    "df = pd.DataFrame(get_sizes)"
   ]
  },
  {
   "cell_type": "code",
   "execution_count": 6,
   "id": "b8468bfe-5e73-4fdd-9f0b-5777f3526de0",
   "metadata": {},
   "outputs": [
    {
     "data": {
      "text/html": [
       "<div>\n",
       "<style scoped>\n",
       "    .dataframe tbody tr th:only-of-type {\n",
       "        vertical-align: middle;\n",
       "    }\n",
       "\n",
       "    .dataframe tbody tr th {\n",
       "        vertical-align: top;\n",
       "    }\n",
       "\n",
       "    .dataframe thead th {\n",
       "        text-align: right;\n",
       "    }\n",
       "</style>\n",
       "<table border=\"1\" class=\"dataframe\">\n",
       "  <thead>\n",
       "    <tr style=\"text-align: right;\">\n",
       "      <th></th>\n",
       "      <th>files</th>\n",
       "      <th>file_size</th>\n",
       "    </tr>\n",
       "  </thead>\n",
       "  <tbody>\n",
       "    <tr>\n",
       "      <th>0</th>\n",
       "      <td>NovaSeq/Microbioal-Isolation/220617_A00585_048...</td>\n",
       "      <td>504923</td>\n",
       "    </tr>\n",
       "    <tr>\n",
       "      <th>1</th>\n",
       "      <td>NovaSeq/Microbioal-Isolation/220617_A00585_048...</td>\n",
       "      <td>17670644</td>\n",
       "    </tr>\n",
       "    <tr>\n",
       "      <th>2</th>\n",
       "      <td>NovaSeq/Microbioal-Isolation/220617_A00585_048...</td>\n",
       "      <td>113136</td>\n",
       "    </tr>\n",
       "    <tr>\n",
       "      <th>3</th>\n",
       "      <td>NovaSeq/Microbioal-Isolation/220617_A00585_048...</td>\n",
       "      <td>13403044</td>\n",
       "    </tr>\n",
       "    <tr>\n",
       "      <th>4</th>\n",
       "      <td>NovaSeq/Microbioal-Isolation/220617_A00585_048...</td>\n",
       "      <td>106775</td>\n",
       "    </tr>\n",
       "  </tbody>\n",
       "</table>\n",
       "</div>"
      ],
      "text/plain": [
       "                                               files  file_size\n",
       "0  NovaSeq/Microbioal-Isolation/220617_A00585_048...     504923\n",
       "1  NovaSeq/Microbioal-Isolation/220617_A00585_048...   17670644\n",
       "2  NovaSeq/Microbioal-Isolation/220617_A00585_048...     113136\n",
       "3  NovaSeq/Microbioal-Isolation/220617_A00585_048...   13403044\n",
       "4  NovaSeq/Microbioal-Isolation/220617_A00585_048...     106775"
      ]
     },
     "execution_count": 6,
     "metadata": {},
     "output_type": "execute_result"
    }
   ],
   "source": [
    "df.head()"
   ]
  },
  {
   "cell_type": "code",
   "execution_count": 7,
   "id": "7477606d-9f12-48a0-8119-8e77aa5b47bc",
   "metadata": {},
   "outputs": [],
   "source": [
    "df.to_csv('../data/filenames_and_sizes.csv', index=False)"
   ]
  },
  {
   "cell_type": "code",
   "execution_count": 69,
   "id": "8035c770-43cb-48ee-9fef-fc3d1c2ea5f3",
   "metadata": {},
   "outputs": [],
   "source": [
    "def extract_aim(identifier):\n",
    "    return int(re.search('AIM(\\d+)', identifier).group(1))"
   ]
  },
  {
   "cell_type": "code",
   "execution_count": 70,
   "id": "89779979-c9df-4481-900b-3e104f8c56e1",
   "metadata": {},
   "outputs": [],
   "source": [
    "df['aim'] = df['files'].apply(extract_aim)"
   ]
  },
  {
   "cell_type": "code",
   "execution_count": 105,
   "id": "636f3fd5-1d9a-4c80-a426-c06b2a6fd908",
   "metadata": {},
   "outputs": [
    {
     "data": {
      "text/plain": [
       "'NovaSeq/Microbioal-Isolation/220617_A00585_0485_AHLJFTDSX3_AgBiome_Run171/AgBiome_220617_Run171_Assembly/220617_Run171_Plate1009/AIM108598_1009_A5_Assembly/AgBiome_AIM108598_1009_A5_220617_consensus.fasta'"
      ]
     },
     "execution_count": 105,
     "metadata": {},
     "output_type": "execute_result"
    }
   ],
   "source": [
    "df.files[200]"
   ]
  },
  {
   "cell_type": "code",
   "execution_count": 106,
   "id": "7c880ab2-a820-48a8-927a-e4623074334f",
   "metadata": {},
   "outputs": [],
   "source": [
    "q = f\"\"\"\n",
    "    SELECT aim,\n",
    "            date,\n",
    "            plate,\n",
    "            asm,\n",
    "            completeness,\n",
    "            contamination\n",
    "    FROM genomics.checkm_o2_csv\n",
    "    WHERE aim IN {tuple(df.aim.unique())}\n",
    "    AND date > '2022-06-01'\n",
    "    \"\"\"\n",
    "aws_qc = ATHENA_CURSOR.execute(q).as_pandas()"
   ]
  },
  {
   "cell_type": "code",
   "execution_count": 107,
   "id": "aa883c04-c8fb-401c-ad14-11fe4bc9d0ad",
   "metadata": {},
   "outputs": [
    {
     "data": {
      "text/html": [
       "<div>\n",
       "<style scoped>\n",
       "    .dataframe tbody tr th:only-of-type {\n",
       "        vertical-align: middle;\n",
       "    }\n",
       "\n",
       "    .dataframe tbody tr th {\n",
       "        vertical-align: top;\n",
       "    }\n",
       "\n",
       "    .dataframe thead th {\n",
       "        text-align: right;\n",
       "    }\n",
       "</style>\n",
       "<table border=\"1\" class=\"dataframe\">\n",
       "  <thead>\n",
       "    <tr style=\"text-align: right;\">\n",
       "      <th></th>\n",
       "      <th>aim</th>\n",
       "      <th>date</th>\n",
       "      <th>plate</th>\n",
       "      <th>asm</th>\n",
       "      <th>completeness</th>\n",
       "      <th>contamination</th>\n",
       "    </tr>\n",
       "  </thead>\n",
       "  <tbody>\n",
       "    <tr>\n",
       "      <th>0</th>\n",
       "      <td>6590</td>\n",
       "      <td>2022-06-17</td>\n",
       "      <td>1019</td>\n",
       "      <td>117141</td>\n",
       "      <td>98.79</td>\n",
       "      <td>0.86</td>\n",
       "    </tr>\n",
       "    <tr>\n",
       "      <th>1</th>\n",
       "      <td>9777</td>\n",
       "      <td>2022-06-17</td>\n",
       "      <td>1020</td>\n",
       "      <td>117705</td>\n",
       "      <td>100.00</td>\n",
       "      <td>100.16</td>\n",
       "    </tr>\n",
       "    <tr>\n",
       "      <th>2</th>\n",
       "      <td>12173</td>\n",
       "      <td>2022-06-17</td>\n",
       "      <td>1021</td>\n",
       "      <td>117881</td>\n",
       "      <td>71.21</td>\n",
       "      <td>2.35</td>\n",
       "    </tr>\n",
       "    <tr>\n",
       "      <th>3</th>\n",
       "      <td>12173</td>\n",
       "      <td>2022-06-17</td>\n",
       "      <td>1013</td>\n",
       "      <td>116687</td>\n",
       "      <td>98.28</td>\n",
       "      <td>0.00</td>\n",
       "    </tr>\n",
       "    <tr>\n",
       "      <th>4</th>\n",
       "      <td>14690</td>\n",
       "      <td>2022-06-17</td>\n",
       "      <td>1009</td>\n",
       "      <td>116455</td>\n",
       "      <td>100.00</td>\n",
       "      <td>1.72</td>\n",
       "    </tr>\n",
       "  </tbody>\n",
       "</table>\n",
       "</div>"
      ],
      "text/plain": [
       "     aim        date  plate     asm  completeness  contamination\n",
       "0   6590  2022-06-17   1019  117141         98.79           0.86\n",
       "1   9777  2022-06-17   1020  117705        100.00         100.16\n",
       "2  12173  2022-06-17   1021  117881         71.21           2.35\n",
       "3  12173  2022-06-17   1013  116687         98.28           0.00\n",
       "4  14690  2022-06-17   1009  116455        100.00           1.72"
      ]
     },
     "execution_count": 107,
     "metadata": {},
     "output_type": "execute_result"
    }
   ],
   "source": [
    "aws_qc.head()"
   ]
  },
  {
   "cell_type": "code",
   "execution_count": 114,
   "id": "45135a35-8e0a-4ace-93bf-249848056cff",
   "metadata": {},
   "outputs": [],
   "source": [
    "prepped_data = df.merge(aws_qc, how='right', on='aim').groupby('asm').first().reset_index()"
   ]
  },
  {
   "cell_type": "markdown",
   "id": "1a270d7f-dd28-4c4f-a51c-a993274c6936",
   "metadata": {},
   "source": [
    "### File Size is represented in Kilobytes"
   ]
  },
  {
   "cell_type": "code",
   "execution_count": 127,
   "id": "504d29bc-86ab-4cca-a0dc-51c1b08804a6",
   "metadata": {},
   "outputs": [
    {
     "data": {
      "text/html": [
       "<div>\n",
       "<style scoped>\n",
       "    .dataframe tbody tr th:only-of-type {\n",
       "        vertical-align: middle;\n",
       "    }\n",
       "\n",
       "    .dataframe tbody tr th {\n",
       "        vertical-align: top;\n",
       "    }\n",
       "\n",
       "    .dataframe thead th {\n",
       "        text-align: right;\n",
       "    }\n",
       "</style>\n",
       "<table border=\"1\" class=\"dataframe\">\n",
       "  <thead>\n",
       "    <tr style=\"text-align: right;\">\n",
       "      <th></th>\n",
       "      <th>asm</th>\n",
       "      <th>files</th>\n",
       "      <th>file_size</th>\n",
       "      <th>aim</th>\n",
       "      <th>date</th>\n",
       "      <th>plate</th>\n",
       "      <th>completeness</th>\n",
       "      <th>contamination</th>\n",
       "    </tr>\n",
       "  </thead>\n",
       "  <tbody>\n",
       "    <tr>\n",
       "      <th>0</th>\n",
       "      <td>116355</td>\n",
       "      <td>NovaSeq/Microbioal-Isolation/220617_A00585_048...</td>\n",
       "      <td>4172043</td>\n",
       "      <td>108511</td>\n",
       "      <td>2022-06-17</td>\n",
       "      <td>1008</td>\n",
       "      <td>98.28</td>\n",
       "      <td>0.73</td>\n",
       "    </tr>\n",
       "    <tr>\n",
       "      <th>1</th>\n",
       "      <td>116356</td>\n",
       "      <td>NovaSeq/Microbioal-Isolation/220617_A00585_048...</td>\n",
       "      <td>4801136</td>\n",
       "      <td>108588</td>\n",
       "      <td>2022-06-17</td>\n",
       "      <td>1008</td>\n",
       "      <td>99.66</td>\n",
       "      <td>0.00</td>\n",
       "    </tr>\n",
       "    <tr>\n",
       "      <th>2</th>\n",
       "      <td>116357</td>\n",
       "      <td>NovaSeq/Microbioal-Isolation/220617_A00585_048...</td>\n",
       "      <td>3868678</td>\n",
       "      <td>108505</td>\n",
       "      <td>2022-06-17</td>\n",
       "      <td>1008</td>\n",
       "      <td>100.00</td>\n",
       "      <td>0.16</td>\n",
       "    </tr>\n",
       "    <tr>\n",
       "      <th>3</th>\n",
       "      <td>116358</td>\n",
       "      <td>NovaSeq/Microbioal-Isolation/220617_A00585_048...</td>\n",
       "      <td>2877686</td>\n",
       "      <td>108523</td>\n",
       "      <td>2022-06-17</td>\n",
       "      <td>1008</td>\n",
       "      <td>98.28</td>\n",
       "      <td>3.45</td>\n",
       "    </tr>\n",
       "    <tr>\n",
       "      <th>4</th>\n",
       "      <td>116359</td>\n",
       "      <td>NovaSeq/Microbioal-Isolation/220617_A00585_048...</td>\n",
       "      <td>5495032</td>\n",
       "      <td>108508</td>\n",
       "      <td>2022-06-17</td>\n",
       "      <td>1008</td>\n",
       "      <td>100.00</td>\n",
       "      <td>74.25</td>\n",
       "    </tr>\n",
       "  </tbody>\n",
       "</table>\n",
       "</div>"
      ],
      "text/plain": [
       "      asm                                              files  file_size  \\\n",
       "0  116355  NovaSeq/Microbioal-Isolation/220617_A00585_048...    4172043   \n",
       "1  116356  NovaSeq/Microbioal-Isolation/220617_A00585_048...    4801136   \n",
       "2  116357  NovaSeq/Microbioal-Isolation/220617_A00585_048...    3868678   \n",
       "3  116358  NovaSeq/Microbioal-Isolation/220617_A00585_048...    2877686   \n",
       "4  116359  NovaSeq/Microbioal-Isolation/220617_A00585_048...    5495032   \n",
       "\n",
       "      aim        date  plate  completeness  contamination  \n",
       "0  108511  2022-06-17   1008         98.28           0.73  \n",
       "1  108588  2022-06-17   1008         99.66           0.00  \n",
       "2  108505  2022-06-17   1008        100.00           0.16  \n",
       "3  108523  2022-06-17   1008         98.28           3.45  \n",
       "4  108508  2022-06-17   1008        100.00          74.25  "
      ]
     },
     "execution_count": 127,
     "metadata": {},
     "output_type": "execute_result"
    }
   ],
   "source": [
    "prepped_data.head()"
   ]
  },
  {
   "cell_type": "code",
   "execution_count": 130,
   "id": "c1554e86-c009-43d1-adbc-1be7bca0268a",
   "metadata": {},
   "outputs": [],
   "source": [
    "%Rpush prepped_data"
   ]
  },
  {
   "cell_type": "code",
   "execution_count": 147,
   "id": "87ab2005-a3b6-44f6-a406-2c91650c1f6e",
   "metadata": {},
   "outputs": [
    {
     "data": {
      "image/png": "[encoded data removed]"
     },
     "metadata": {},
     "output_type": "display_data"
    }
   ],
   "source": [
    "%%R\n",
    "library(ggplot2)\n",
    "options(scipen = 999)\n",
    "\n",
    "p1 <- (\n",
    "    ggplot(prepped_data, aes(completeness, contamination, colour=file_size)) + \n",
    "    geom_point(size=2) +\n",
    "    scale_colour_viridis_b(option = \"A\")\n",
    ")\n",
    "p1"
   ]
  },
  {
   "cell_type": "code",
   "execution_count": 146,
   "id": "3b62113b-52bd-4b3a-9f24-61bfeac9688c",
   "metadata": {},
   "outputs": [
    {
     "data": {
      "text/plain": [
       "count        1533.000000\n",
       "mean      4951120.801696\n",
       "std       2331712.143094\n",
       "min          1449.000000\n",
       "25%       4037571.000000\n",
       "50%       5235189.000000\n",
       "75%       5999149.000000\n",
       "max      25940253.000000\n",
       "Name: file_size, dtype: object"
      ]
     },
     "execution_count": 146,
     "metadata": {},
     "output_type": "execute_result"
    }
   ],
   "source": [
    "prepped_data.file_size.describe().apply(lambda x: format(x, 'f'))"
   ]
  },
  {
   "cell_type": "markdown",
   "id": "3df13eff-7594-41f9-ae9b-5fcc00cfc0bc",
   "metadata": {},
   "source": [
    "Descent genomes are generally between 4 and 6 megabytes. Of course there are exceptions but for checkm  if the file is between those values theres a good chance we'll receive a good quality genome."
   ]
  },
  {
   "cell_type": "markdown",
   "id": "3bde1054-eb29-41e0-85b6-a5f7caba9ea7",
   "metadata": {},
   "source": [
    "### Control Data"
   ]
  },
  {
   "cell_type": "code",
   "execution_count": 148,
   "id": "686f8c4c-4e3c-4d32-8d73-c0f9b9892fcb",
   "metadata": {},
   "outputs": [],
   "source": [
    "query = f\"\"\"\n",
    "    SELECT plate, aim, pass, evaluation_type, kid\n",
    "            \n",
    "      FROM microbial_metadata.isolate_assembly_mash_controls\n",
    "      WHERE run = 171\n",
    "                        \"\"\"\n",
    "control_data = ATHENA_CURSOR.execute(query).as_pandas()"
   ]
  },
  {
   "cell_type": "code",
   "execution_count": 150,
   "id": "1bb1e449-1311-402a-a14d-237905d9a463",
   "metadata": {},
   "outputs": [
    {
     "data": {
      "text/html": [
       "<div>\n",
       "<style scoped>\n",
       "    .dataframe tbody tr th:only-of-type {\n",
       "        vertical-align: middle;\n",
       "    }\n",
       "\n",
       "    .dataframe tbody tr th {\n",
       "        vertical-align: top;\n",
       "    }\n",
       "\n",
       "    .dataframe thead th {\n",
       "        text-align: right;\n",
       "    }\n",
       "</style>\n",
       "<table border=\"1\" class=\"dataframe\">\n",
       "  <thead>\n",
       "    <tr style=\"text-align: right;\">\n",
       "      <th></th>\n",
       "      <th>plate</th>\n",
       "      <th>aim</th>\n",
       "      <th>pass</th>\n",
       "      <th>evaluation_type</th>\n",
       "      <th>kid</th>\n",
       "    </tr>\n",
       "  </thead>\n",
       "  <tbody>\n",
       "    <tr>\n",
       "      <th>0</th>\n",
       "      <td>1024</td>\n",
       "      <td>48281</td>\n",
       "      <td>True</td>\n",
       "      <td>threshold</td>\n",
       "      <td>95.847570</td>\n",
       "    </tr>\n",
       "    <tr>\n",
       "      <th>1</th>\n",
       "      <td>1016</td>\n",
       "      <td>48281</td>\n",
       "      <td>True</td>\n",
       "      <td>threshold</td>\n",
       "      <td>92.982920</td>\n",
       "    </tr>\n",
       "    <tr>\n",
       "      <th>2</th>\n",
       "      <td>1010</td>\n",
       "      <td>48415</td>\n",
       "      <td>True</td>\n",
       "      <td>manual</td>\n",
       "      <td>89.769780</td>\n",
       "    </tr>\n",
       "    <tr>\n",
       "      <th>3</th>\n",
       "      <td>1019</td>\n",
       "      <td>6590</td>\n",
       "      <td>True</td>\n",
       "      <td>threshold</td>\n",
       "      <td>91.317116</td>\n",
       "    </tr>\n",
       "    <tr>\n",
       "      <th>4</th>\n",
       "      <td>1009</td>\n",
       "      <td>14690</td>\n",
       "      <td>True</td>\n",
       "      <td>threshold</td>\n",
       "      <td>99.225880</td>\n",
       "    </tr>\n",
       "  </tbody>\n",
       "</table>\n",
       "</div>"
      ],
      "text/plain": [
       "   plate    aim  pass evaluation_type        kid\n",
       "0   1024  48281  True       threshold  95.847570\n",
       "1   1016  48281  True       threshold  92.982920\n",
       "2   1010  48415  True          manual  89.769780\n",
       "3   1019   6590  True       threshold  91.317116\n",
       "4   1009  14690  True       threshold  99.225880"
      ]
     },
     "execution_count": 150,
     "metadata": {},
     "output_type": "execute_result"
    }
   ],
   "source": [
    "control_data.head()"
   ]
  },
  {
   "cell_type": "code",
   "execution_count": 151,
   "id": "830815bc-789e-422c-bd50-2a64e409813c",
   "metadata": {},
   "outputs": [],
   "source": [
    "%Rpush control_data"
   ]
  },
  {
   "cell_type": "code",
   "execution_count": 154,
   "id": "85aa916f-8666-41aa-96fc-10748cc50fa0",
   "metadata": {},
   "outputs": [
    {
     "data": {
      "image/png": "[encoded data removed]"
     },
     "metadata": {},
     "output_type": "display_data"
    }
   ],
   "source": [
    "%%R \n",
    "p2 <- (\n",
    "    ggplot(control_data, aes(plate, kid,colour = factor(aim))) + \n",
    "    geom_point(size=5) +\n",
    "    geom_hline(yintercept=90, linetype=\"dotted\", color=\"black\") +\n",
    "    labs(title=\"Control AIM Mash Comparison by Plate and Run\") +\n",
    "    theme(plot.title = element_text(hjust = 0.5))\n",
    ")\n",
    "p2"
   ]
  },
  {
   "cell_type": "markdown",
   "id": "a42391d6-6f8d-4025-a19e-b8067d135585",
   "metadata": {},
   "source": [
    "### Notes\n",
    "- There are still 5 plates that need to be processed. \n",
    "- Three plates have mislabled controls and I have asked MOgene to update the data. \n",
    "- The file sizes of two controls were so small they couldn't be processed. I have notified MOgene to look into the issue.\n",
    "- 48415 may have drifted from the original reference file. All didn't pass by 1% but they matched many other assemblies from the same AIM\n",
    "- The 2 controls < 60 were highly contaminated."
   ]
  },
  {
   "cell_type": "code",
   "execution_count": 160,
   "id": "3d0dd3b3-882d-49a2-8487-541bdb1d1843",
   "metadata": {},
   "outputs": [],
   "source": [
    "(\n",
    "    aws_qc[[\n",
    "        'aim', \n",
    "        'plate', \n",
    "        'completeness', \n",
    "        'contamination'\n",
    "    ]].loc[aws_qc['aim'] > 100000]\n",
    "    .aim\n",
    "    .to_csv('../data/run171_aim_list.csv', index=False)\n",
    ")"
   ]
  }
 ],
 "metadata": {
  "kernelspec": {
   "display_name": "Python 3 (ipykernel)",
   "language": "python",
   "name": "python3"
  },
  "language_info": {
   "codemirror_mode": {
    "name": "ipython",
    "version": 3
   },
   "file_extension": ".py",
   "mimetype": "text/x-python",
   "name": "python",
   "nbconvert_exporter": "python",
   "pygments_lexer": "ipython3",
   "version": "3.9.7"
  }
 },
 "nbformat": 4,
 "nbformat_minor": 5
}
